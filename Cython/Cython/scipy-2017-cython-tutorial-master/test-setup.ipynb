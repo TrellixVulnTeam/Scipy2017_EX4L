{
 "cells": [
  {
   "cell_type": "code",
   "execution_count": null,
   "metadata": {
    "collapsed": true
   },
   "outputs": [],
   "source": [
    "%load_ext Cython"
   ]
  },
  {
   "cell_type": "code",
   "execution_count": null,
   "metadata": {
    "collapsed": true
   },
   "outputs": [],
   "source": [
    "def pure_python():\n",
    "    # yes, this is cheating a little.  Thank Gauss.\n",
    "    n = 10**6\n",
    "    return (n - 1) * n / 2"
   ]
  },
  {
   "cell_type": "code",
   "execution_count": null,
   "metadata": {},
   "outputs": [],
   "source": [
    "%%cython\n",
    "\n",
    "from cython.parallel cimport prange\n",
    "\n",
    "def try_prange():\n",
    "    cdef int i, n=10**6\n",
    "    cdef long ret = 0\n",
    "    for i in prange(n, nogil=True):\n",
    "        ret += i\n",
    "    return ret\n",
    "\n",
    "def try_range():\n",
    "    cdef int i, n=10**6\n",
    "    cdef long ret = 0\n",
    "    for i in range(n):\n",
    "        ret += i\n",
    "    return ret\n",
    "\n",
    "def try_untyped():\n",
    "    n = 10**6\n",
    "    ret = 0\n",
    "    for i in range(n):\n",
    "        ret += i\n",
    "    return ret"
   ]
  },
  {
   "cell_type": "code",
   "execution_count": null,
   "metadata": {},
   "outputs": [],
   "source": [
    "assert try_prange() == try_range() == try_untyped() == pure_python()"
   ]
  }
 ],
 "metadata": {
  "kernelspec": {
   "display_name": "Python 3",
   "language": "python",
   "name": "python3"
  },
  "language_info": {
   "codemirror_mode": {
    "name": "ipython",
    "version": 3
   },
   "file_extension": ".py",
   "mimetype": "text/x-python",
   "name": "python",
   "nbconvert_exporter": "python",
   "pygments_lexer": "ipython3",
   "version": "3.5.3"
  }
 },
 "nbformat": 4,
 "nbformat_minor": 2
}
