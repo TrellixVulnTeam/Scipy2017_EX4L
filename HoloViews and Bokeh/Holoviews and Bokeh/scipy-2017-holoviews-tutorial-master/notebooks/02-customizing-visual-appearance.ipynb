{
 "cells": [
  {
   "cell_type": "markdown",
   "metadata": {},
   "source": [
    "<a href='http://www.holoviews.org'><img src=\"assets/hv+bk.png\" alt=\"HV+BK logos\" width=\"40%;\" align=\"left\"/></a>\n",
    "<div style=\"float:right;\"><h2>02. Customizing Visual Appearance</h2></div>"
   ]
  },
  {
   "cell_type": "markdown",
   "metadata": {},
   "source": [
    "Section 01 focused on specifying elements and simple collections of them.  This section explains how the visual appearance can be adjusted to bring out the most salient aspects of your data, or just to make the style match the overall theme of your document.\n",
    "\n",
    "\n",
    "## Preliminaries\n",
    "\n",
    "In the [introduction to elements](./01-introduction-to-elements), ``hv.extension('bokeh')`` was used at the start to load and activate the bokeh plotting extension. In this notebook, we will also briefly use [matplotlib](www.matplotlib.org) which we will load, but not yet activate, by listing it second:"
   ]
  },
  {
   "cell_type": "code",
   "execution_count": 13,
   "metadata": {},
   "outputs": [
    {
     "name": "stderr",
     "output_type": "stream",
     "text": [
      "WARNING:root:notebook_extension: HoloViews bokeh backend could not be imported, ensure bokeh is installed.\n"
     ]
    },
    {
     "ename": "ImportError",
     "evalue": "None of the backends could be imported",
     "output_type": "error",
     "traceback": [
      "\u001b[1;31m---------------------------------------------------------------------------\u001b[0m",
      "\u001b[1;31mImportError\u001b[0m                               Traceback (most recent call last)",
      "\u001b[1;32m<ipython-input-13-3b2361840f99>\u001b[0m in \u001b[0;36m<module>\u001b[1;34m()\u001b[0m\n\u001b[0;32m      3\u001b[0m \u001b[1;32mimport\u001b[0m \u001b[0mpandas\u001b[0m \u001b[1;32mas\u001b[0m \u001b[0mpd\u001b[0m\u001b[1;33m\u001b[0m\u001b[0m\n\u001b[0;32m      4\u001b[0m \u001b[1;32mimport\u001b[0m \u001b[0mholoviews\u001b[0m \u001b[1;32mas\u001b[0m \u001b[0mhv\u001b[0m\u001b[1;33m\u001b[0m\u001b[0m\n\u001b[1;32m----> 5\u001b[1;33m \u001b[0mhv\u001b[0m\u001b[1;33m.\u001b[0m\u001b[0mextension\u001b[0m\u001b[1;33m(\u001b[0m\u001b[1;34m'bokeh'\u001b[0m\u001b[1;33m)\u001b[0m\u001b[1;33m\u001b[0m\u001b[0m\n\u001b[0m",
      "\u001b[1;32mC:\\Anaconda3\\lib\\site-packages\\param\\parameterized.py\u001b[0m in \u001b[0;36m__new__\u001b[1;34m(class_, *args, **params)\u001b[0m\n\u001b[0;32m   1886\u001b[0m         \u001b[0minst\u001b[0m \u001b[1;33m=\u001b[0m \u001b[0mclass_\u001b[0m\u001b[1;33m.\u001b[0m\u001b[0minstance\u001b[0m\u001b[1;33m(\u001b[0m\u001b[1;33m)\u001b[0m\u001b[1;33m\u001b[0m\u001b[0m\n\u001b[0;32m   1887\u001b[0m         \u001b[0minst\u001b[0m\u001b[1;33m.\u001b[0m\u001b[0m_set_name\u001b[0m\u001b[1;33m(\u001b[0m\u001b[0mclass_\u001b[0m\u001b[1;33m.\u001b[0m\u001b[0m__name__\u001b[0m\u001b[1;33m)\u001b[0m\u001b[1;33m\u001b[0m\u001b[0m\n\u001b[1;32m-> 1888\u001b[1;33m         \u001b[1;32mreturn\u001b[0m \u001b[0minst\u001b[0m\u001b[1;33m.\u001b[0m\u001b[0m__call__\u001b[0m\u001b[1;33m(\u001b[0m\u001b[1;33m*\u001b[0m\u001b[0margs\u001b[0m\u001b[1;33m,\u001b[0m\u001b[1;33m**\u001b[0m\u001b[0mparams\u001b[0m\u001b[1;33m)\u001b[0m\u001b[1;33m\u001b[0m\u001b[0m\n\u001b[0m\u001b[0;32m   1889\u001b[0m \u001b[1;33m\u001b[0m\u001b[0m\n\u001b[0;32m   1890\u001b[0m     \u001b[1;32mdef\u001b[0m \u001b[0m__call__\u001b[0m\u001b[1;33m(\u001b[0m\u001b[0mself\u001b[0m\u001b[1;33m,\u001b[0m\u001b[1;33m*\u001b[0m\u001b[0margs\u001b[0m\u001b[1;33m,\u001b[0m\u001b[1;33m**\u001b[0m\u001b[0mkw\u001b[0m\u001b[1;33m)\u001b[0m\u001b[1;33m:\u001b[0m\u001b[1;33m\u001b[0m\u001b[0m\n",
      "\u001b[1;32mC:\\Anaconda3\\lib\\site-packages\\holoviews\\ipython\\__init__.py\u001b[0m in \u001b[0;36m__call__\u001b[1;34m(self, *args, **params)\u001b[0m\n\u001b[0;32m    107\u001b[0m \u001b[1;33m\u001b[0m\u001b[0m\n\u001b[0;32m    108\u001b[0m     \u001b[1;32mdef\u001b[0m \u001b[0m__call__\u001b[0m\u001b[1;33m(\u001b[0m\u001b[0mself\u001b[0m\u001b[1;33m,\u001b[0m \u001b[1;33m*\u001b[0m\u001b[0margs\u001b[0m\u001b[1;33m,\u001b[0m \u001b[1;33m**\u001b[0m\u001b[0mparams\u001b[0m\u001b[1;33m)\u001b[0m\u001b[1;33m:\u001b[0m\u001b[1;33m\u001b[0m\u001b[0m\n\u001b[1;32m--> 109\u001b[1;33m         \u001b[0msuper\u001b[0m\u001b[1;33m(\u001b[0m\u001b[0mnotebook_extension\u001b[0m\u001b[1;33m,\u001b[0m \u001b[0mself\u001b[0m\u001b[1;33m)\u001b[0m\u001b[1;33m.\u001b[0m\u001b[0m__call__\u001b[0m\u001b[1;33m(\u001b[0m\u001b[1;33m*\u001b[0m\u001b[0margs\u001b[0m\u001b[1;33m,\u001b[0m \u001b[1;33m**\u001b[0m\u001b[0mparams\u001b[0m\u001b[1;33m)\u001b[0m\u001b[1;33m\u001b[0m\u001b[0m\n\u001b[0m\u001b[0;32m    110\u001b[0m         \u001b[1;31m# Abort if IPython not found\u001b[0m\u001b[1;33m\u001b[0m\u001b[1;33m\u001b[0m\u001b[0m\n\u001b[0;32m    111\u001b[0m         \u001b[1;32mtry\u001b[0m\u001b[1;33m:\u001b[0m\u001b[1;33m\u001b[0m\u001b[0m\n",
      "\u001b[1;32mC:\\Anaconda3\\lib\\site-packages\\holoviews\\util\\__init__.py\u001b[0m in \u001b[0;36m__call__\u001b[1;34m(self, *args, **params)\u001b[0m\n\u001b[0;32m    246\u001b[0m \u001b[1;33m\u001b[0m\u001b[0m\n\u001b[0;32m    247\u001b[0m         \u001b[1;32mif\u001b[0m \u001b[0mselected_backend\u001b[0m \u001b[1;32mis\u001b[0m \u001b[1;32mNone\u001b[0m\u001b[1;33m:\u001b[0m\u001b[1;33m\u001b[0m\u001b[0m\n\u001b[1;32m--> 248\u001b[1;33m             \u001b[1;32mraise\u001b[0m \u001b[0mImportError\u001b[0m\u001b[1;33m(\u001b[0m\u001b[1;34m'None of the backends could be imported'\u001b[0m\u001b[1;33m)\u001b[0m\u001b[1;33m\u001b[0m\u001b[0m\n\u001b[0m\u001b[0;32m    249\u001b[0m         \u001b[0mStore\u001b[0m\u001b[1;33m.\u001b[0m\u001b[0mcurrent_backend\u001b[0m \u001b[1;33m=\u001b[0m \u001b[0mselected_backend\u001b[0m\u001b[1;33m\u001b[0m\u001b[0m\n\u001b[0;32m    250\u001b[0m \u001b[1;33m\u001b[0m\u001b[0m\n",
      "\u001b[1;31mImportError\u001b[0m: None of the backends could be imported"
     ]
    }
   ],
   "source": [
    "# %%output backend='bokeh'\n",
    "\n",
    "import pandas as pd\n",
    "import holoviews as hv\n",
    "hv.extension('bokeh')"
   ]
  },
  {
   "cell_type": "markdown",
   "metadata": {},
   "source": [
    "## Visualizing eclipse data\n",
    "\n",
    "Let us find some interesting data to generate elements from, before we consider how to customize them. Here is a dataset containing information about all the [eclipses of the 21st century](https://en.wikipedia.org/wiki/List_of_solar_eclipses_in_the_21st_century):"
   ]
  },
  {
   "cell_type": "code",
   "execution_count": 8,
   "metadata": {},
   "outputs": [
    {
     "data": {
      "text/html": [
       "<div>\n",
       "<style>\n",
       "    .dataframe thead tr:only-child th {\n",
       "        text-align: right;\n",
       "    }\n",
       "\n",
       "    .dataframe thead th {\n",
       "        text-align: left;\n",
       "    }\n",
       "\n",
       "    .dataframe tbody tr th {\n",
       "        vertical-align: top;\n",
       "    }\n",
       "</style>\n",
       "<table border=\"1\" class=\"dataframe\">\n",
       "  <thead>\n",
       "    <tr style=\"text-align: right;\">\n",
       "      <th></th>\n",
       "      <th>date</th>\n",
       "      <th>hour_local</th>\n",
       "      <th>hour_utc</th>\n",
       "      <th>type</th>\n",
       "      <th>magnitude</th>\n",
       "      <th>latitude</th>\n",
       "      <th>longitude</th>\n",
       "    </tr>\n",
       "  </thead>\n",
       "  <tbody>\n",
       "    <tr>\n",
       "      <th>0</th>\n",
       "      <td>2001-06-21</td>\n",
       "      <td>12.259444</td>\n",
       "      <td>12.079444</td>\n",
       "      <td>Total</td>\n",
       "      <td>1.050</td>\n",
       "      <td>-11.3</td>\n",
       "      <td>2.7</td>\n",
       "    </tr>\n",
       "    <tr>\n",
       "      <th>1</th>\n",
       "      <td>2001-12-14</td>\n",
       "      <td>12.170278</td>\n",
       "      <td>20.883611</td>\n",
       "      <td>Annular</td>\n",
       "      <td>0.968</td>\n",
       "      <td>0.6</td>\n",
       "      <td>-130.7</td>\n",
       "    </tr>\n",
       "    <tr>\n",
       "      <th>2</th>\n",
       "      <td>2002-06-10</td>\n",
       "      <td>11.849444</td>\n",
       "      <td>23.756111</td>\n",
       "      <td>Annular</td>\n",
       "      <td>0.996</td>\n",
       "      <td>34.5</td>\n",
       "      <td>-178.6</td>\n",
       "    </tr>\n",
       "    <tr>\n",
       "      <th>3</th>\n",
       "      <td>2002-12-04</td>\n",
       "      <td>11.511111</td>\n",
       "      <td>7.537778</td>\n",
       "      <td>Total</td>\n",
       "      <td>1.024</td>\n",
       "      <td>-39.5</td>\n",
       "      <td>59.6</td>\n",
       "    </tr>\n",
       "    <tr>\n",
       "      <th>4</th>\n",
       "      <td>2003-05-31</td>\n",
       "      <td>2.522778</td>\n",
       "      <td>4.156111</td>\n",
       "      <td>Annular</td>\n",
       "      <td>0.938</td>\n",
       "      <td>66.6</td>\n",
       "      <td>-24.5</td>\n",
       "    </tr>\n",
       "  </tbody>\n",
       "</table>\n",
       "</div>"
      ],
      "text/plain": [
       "        date  hour_local   hour_utc     type  magnitude  latitude  longitude\n",
       "0 2001-06-21   12.259444  12.079444    Total      1.050     -11.3        2.7\n",
       "1 2001-12-14   12.170278  20.883611  Annular      0.968       0.6     -130.7\n",
       "2 2002-06-10   11.849444  23.756111  Annular      0.996      34.5     -178.6\n",
       "3 2002-12-04   11.511111   7.537778    Total      1.024     -39.5       59.6\n",
       "4 2003-05-31    2.522778   4.156111  Annular      0.938      66.6      -24.5"
      ]
     },
     "execution_count": 8,
     "metadata": {},
     "output_type": "execute_result"
    }
   ],
   "source": [
    "eclipses = pd.read_csv('../data/eclipses_21C.csv', parse_dates=['date'])\n",
    "eclipses.head()"
   ]
  },
  {
   "cell_type": "markdown",
   "metadata": {},
   "source": [
    "Here we have the date of each eclipse, what time of day the eclipse reached its peak in both local time and in UTC, the type of eclipse, its magnitude (fraction of the Sun's diameter obscured by the Moon) and the position of the peak in latitude and longitude.\n",
    "\n",
    "Let's see what happens if we pass this dataframe to the [``Curve``](http://build.holoviews.org/reference/elements/bokeh/Curve.html) element:"
   ]
  },
  {
   "cell_type": "code",
   "execution_count": 9,
   "metadata": {},
   "outputs": [
    {
     "data": {
      "text/html": [
       "<img src='data:image/png;base64,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' style='max-width:100%; margin: auto; display: block; '/>"
      ],
      "text/plain": [
       ":Curve   [date]   (hour_local,hour_utc,type,magnitude,latitude,longitude)"
      ]
     },
     "execution_count": 9,
     "metadata": {},
     "output_type": "execute_result"
    }
   ],
   "source": [
    "hv.Curve(eclipses)"
   ]
  },
  {
   "cell_type": "markdown",
   "metadata": {},
   "source": [
    "We see that, by default, the first dataframe column becomes the *key dimension* (corresponding to the x-axis) and the second column becomes the *value dimension* (corresponding to the y-axis). There is clearly structure in this data, but the plot is too highly compressed in the x direction to see much detail, and you may not like the particular color or line style. So we can start customizing the appearance of this curve using the HoloViews [options system](http://holoviews.org/user_guide/Customizing_Plots.html).\n",
    "\n",
    "## Types of option\n",
    "\n",
    "If we want to change the appearance of what we can already see in the plot, we're no longer focusing on the data and metadata stored in the elements, but about details of the presentation.  Details specific to the final plo tare handled by the separate \"options\" system, not the element objects.  HoloViews allows you to set three types of options:\n",
    "\n",
    "* **plot options**: Options that tell *HoloViews* how to *construct* the plot.\n",
    "* **style options**: Options that tell the underlying *plotting extension* (Bokeh, matplotlib, etc.) how to *style* the plot\n",
    "* **normalization options**: Options that tell *HoloViews* how to *normalize* the various elements in the plot against each other (not covered in this tutorial)\n",
    "\n",
    "\n",
    "### Plot options\n",
    "\n",
    "We noted that the data is too compressed in the x direction. Let us fix that by specifying the ``width`` plot option:"
   ]
  },
  {
   "cell_type": "code",
   "execution_count": 10,
   "metadata": {},
   "outputs": [
    {
     "name": "stderr",
     "output_type": "stream",
     "text": [
      "Unexpected plot option 'width' for Curve in loaded backend 'matplotlib'.\n",
      "\n",
      "Possible keywords in the currently active 'matplotlib' renderer are: ['apply_extents', 'apply_ranges', 'apply_ticks', 'aspect', 'autotick', 'bgcolor', 'fig_alpha', 'fig_bounds', 'fig_inches', 'fig_latex', 'fig_rcparams', 'fig_size', 'final_hooks', 'finalize_hooks', 'fontsize', 'initial_hooks', 'interpolation', 'invert_axes', 'invert_xaxis', 'invert_yaxis', 'invert_zaxis', 'labelled', 'logx', 'logy', 'logz', 'normalize', 'projection', 'relative_labels', 'show_frame', 'show_grid', 'show_legend', 'show_title', 'sublabel_format', 'sublabel_position', 'sublabel_size', 'title_format', 'xaxis', 'xrotation', 'xticks', 'yaxis', 'yrotation', 'yticks', 'zaxis', 'zrotation', 'zticks']\n",
      "\n",
      "If you believe this keyword is correct, please make sure the backend has been imported or loaded with the hv.extension."
     ]
    },
    {
     "data": {
      "text/html": [
       "<img src='data:image/png;base64,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' style='max-width:100%; margin: auto; display: block; '/>"
      ],
      "text/plain": [
       ":Curve   [date]   (hour_local,hour_utc,type,magnitude,latitude,longitude)"
      ]
     },
     "execution_count": 10,
     "metadata": {},
     "output_type": "execute_result"
    }
   ],
   "source": [
    "%%opts Curve [width=900]\n",
    "hour_curve = hv.Curve(eclipses).redim.label(hour_local='Hour (local time)', date='Date (21st century)')\n",
    "hour_curve"
   ]
  },
  {
   "cell_type": "markdown",
   "metadata": {},
   "source": [
    "The top line uses a special IPython/Jupyter syntax called the ``%%opts`` *cell magic* to specify the ``width`` plot option for all [``Curve``](http://build.holoviews.org/reference/elements/bokeh/Curve.html) objects in this cell.  ``%%opts`` accepts a simple specification where we pass the ``width=900`` keyword argument to  [``Curve``](http://build.holoviews.org/reference/elements/bokeh/Curve.html) as a plot option (denoted by the *square brackets*).\n",
    "\n",
    "Of course, there are other ways of applying options in HoloViews that do not require this IPython-specific syntax, but for this tutorial, we will only be covering the more-convenient magic-based syntax. You can read about the alternative approaches in the [user guide](http://holoviews.org/user_guide/Customizing_Plots.html)."
   ]
  },
  {
   "cell_type": "code",
   "execution_count": null,
   "metadata": {
    "collapsed": true
   },
   "outputs": [],
   "source": [
    "# Exercise: Try setting the height plot option of the Curve above.\n",
    "# Hint: the magic supports tab completion when the cursor is in the square brackets!\n"
   ]
  },
  {
   "cell_type": "code",
   "execution_count": null,
   "metadata": {
    "collapsed": true
   },
   "outputs": [],
   "source": [
    "# Exercise: Try enabling the boolean show_grid plot option for the curve above\n"
   ]
  },
  {
   "cell_type": "code",
   "execution_count": null,
   "metadata": {
    "collapsed": true
   },
   "outputs": [],
   "source": [
    "# Exercise: Try set the x-axis label rotation (in degrees) with the xrotation plot option\n"
   ]
  },
  {
   "cell_type": "markdown",
   "metadata": {},
   "source": [
    "#### Aside: ``hv.help``\n",
    "\n",
    "Tab completion helps discover what keywords are available but you can get more complete help using the ``hv.help`` utility. For instance, to learn more about the options for ``hv.Curve`` run ``hv.help(hv.Curve)``:"
   ]
  },
  {
   "cell_type": "code",
   "execution_count": null,
   "metadata": {
    "collapsed": true
   },
   "outputs": [],
   "source": [
    "# hv.help(hv.Curve)\n"
   ]
  },
  {
   "cell_type": "markdown",
   "metadata": {},
   "source": [
    "### Style options\n",
    "\n",
    "The plot options earlier instructed HoloViews to build a plot 900 pixels wide, when rendered with the Bokeh plotting extension. Now let's specify that the Bokeh glyph should be 'red' and slightly thicker, which is information passed on directly to Bokeh (making it a style option):"
   ]
  },
  {
   "cell_type": "code",
   "execution_count": null,
   "metadata": {
    "collapsed": true
   },
   "outputs": [],
   "source": [
    "%%opts Curve (color='red' line_width=2)\n",
    "hour_curve"
   ]
  },
  {
   "cell_type": "markdown",
   "metadata": {},
   "source": [
    "Note how the plot options applied above to ``hour_curve`` are remembered! The ``%%opts`` magic is used to customize the *object* displayed as output for a particular code cell: behind the scenes HoloViews has linked the specified options to the ``hour_curve`` object via a hidden integer id attribute.\n",
    "\n",
    "Having used the ``%%opts`` magic on ``hour_curve`` again, we have now associated the 'red' ``color`` *style option* to it. In the options specification syntax, style options are the keywords in *parentheses* and are keywords defined and used by Bokeh to style [line glyphs](http://bokeh.pydata.org/en/latest/docs/user_guide/plotting.html#line-glyphs).\n",
    "\n"
   ]
  },
  {
   "cell_type": "code",
   "execution_count": null,
   "metadata": {
    "collapsed": true
   },
   "outputs": [],
   "source": [
    "# Exercise: Display hour_curve without any new options to verify it stays red\n"
   ]
  },
  {
   "cell_type": "code",
   "execution_count": null,
   "metadata": {
    "collapsed": true
   },
   "outputs": [],
   "source": [
    "# Exercise: Try setting the line_width style options to 1\n"
   ]
  },
  {
   "cell_type": "code",
   "execution_count": null,
   "metadata": {
    "collapsed": true
   },
   "outputs": [],
   "source": [
    "# Exercise: Try setting the  line_dash style option to 'dotdash'\n"
   ]
  },
  {
   "cell_type": "markdown",
   "metadata": {},
   "source": [
    "## Switching to matplotlib\n",
    "\n",
    "Let us now view our curve with matplotlib using the ``%%output`` cell magic:"
   ]
  },
  {
   "cell_type": "code",
   "execution_count": null,
   "metadata": {
    "collapsed": true
   },
   "outputs": [],
   "source": [
    "%%output backend='matplotlib'\n",
    "hour_curve"
   ]
  },
  {
   "cell_type": "markdown",
   "metadata": {},
   "source": [
    "All our options are gone! This is because the options are associated with the corresponding plotting extension---if you switch back to 'bokeh', the options will be applicable again. In general, options have to be specific to backends; e.g. the ``line_width`` style option accepted by Bokeh is called ``linewidth`` in matplotlib:"
   ]
  },
  {
   "cell_type": "code",
   "execution_count": null,
   "metadata": {
    "collapsed": true
   },
   "outputs": [],
   "source": [
    "%%output backend='matplotlib'\n",
    "%%opts Curve [aspect=4 fig_size=400 xrotation=90] (color='blue' linewidth=2)\n",
    "hour_curve"
   ]
  },
  {
   "cell_type": "code",
   "execution_count": null,
   "metadata": {
    "collapsed": true
   },
   "outputs": [],
   "source": [
    "# Exercise: Apply the matplotlib equivalent to line_dash above using linestyle='-.'"
   ]
  },
  {
   "cell_type": "markdown",
   "metadata": {},
   "source": [
    "### The ``%output`` line magic\n",
    "\n",
    "In the two cells above we repeated ``%%output backend='matplotlib'`` to use matplotlib to render those two cells. Instead of repeating ourselves with the cell magic, we can use a \"line magic\" (similar syntax to the cell magic but with one ``%``) to set things globally. Let us switch to matplotlib with a line magic and specify that we want SVG output:"
   ]
  },
  {
   "cell_type": "code",
   "execution_count": null,
   "metadata": {
    "collapsed": true
   },
   "outputs": [],
   "source": [
    "%output backend='matplotlib' fig='svg'"
   ]
  },
  {
   "cell_type": "markdown",
   "metadata": {},
   "source": [
    "Unlike the cell magic, the line magic doesn't need to be followed by any expression and can be used anywhere in the notebook. Both the ``%output`` and ``%opts`` line magics set things globally so it is recommended you declare them at the top of your notebooks. Now let us look at the SVG matplotlib output we requested:"
   ]
  },
  {
   "cell_type": "code",
   "execution_count": null,
   "metadata": {
    "collapsed": true
   },
   "outputs": [],
   "source": [
    "%%opts Curve [aspect=4 fig_size=400 xrotation=70] (color='green' linestyle='--')\n",
    "hour_curve"
   ]
  },
  {
   "cell_type": "code",
   "execution_count": null,
   "metadata": {
    "collapsed": true
   },
   "outputs": [],
   "source": [
    "# Exercise: Verify for yourself that the output above is SVG and not PNG\n",
    "# You can do this by right-clicking above then selecting 'Open Image in a new Tab' (Chrome) or 'View Image' (Firefox)"
   ]
  },
  {
   "cell_type": "markdown",
   "metadata": {},
   "source": [
    "## Switching back to bokeh\n",
    "\n",
    "In previous releases of HoloViews, it was typical to switch to matplotlib in order to export to PNG or SVG, because Bokeh did not support these file formats. Since [Bokeh 0.12.6](https://bokeh.github.io/blog/2017/6/13/release-0-12-6/) we can now easily use HoloViews to export Bokeh plots to a PNG file, as we will now demonstrate:"
   ]
  },
  {
   "cell_type": "code",
   "execution_count": null,
   "metadata": {
    "collapsed": true
   },
   "outputs": [],
   "source": [
    "%output backend='bokeh'"
   ]
  },
  {
   "cell_type": "markdown",
   "metadata": {},
   "source": [
    "By passing ``fig='png'`` and a ``filename='eclipses'`` to ``%output`` we can both render to PNG and save the output to file:"
   ]
  },
  {
   "cell_type": "code",
   "execution_count": null,
   "metadata": {
    "collapsed": true
   },
   "outputs": [],
   "source": [
    "%%output fig='png' filename='eclipses'\n",
    "hour_curve.clone()"
   ]
  },
  {
   "cell_type": "markdown",
   "metadata": {},
   "source": [
    "Here we have requested PNG format using ``fig='png'`` and that the output is output to eclipses.png using ``filename='eclipses'``:"
   ]
  },
  {
   "cell_type": "code",
   "execution_count": null,
   "metadata": {
    "collapsed": true
   },
   "outputs": [],
   "source": [
    "ls *.png"
   ]
  },
  {
   "cell_type": "markdown",
   "metadata": {},
   "source": [
    "Bokeh also has some SVG support, but it is not yet exposed in HoloViews."
   ]
  },
  {
   "cell_type": "markdown",
   "metadata": {},
   "source": [
    "## Using ``group`` and ``label``"
   ]
  },
  {
   "cell_type": "markdown",
   "metadata": {},
   "source": [
    "The above examples showed how to customize by type, but HoloViews offers multiple additional levels of customization that should be sufficient to cover any purpose. For our last example, let us split our eclipse dataframe based on the type ('Total' or 'Partial'):"
   ]
  },
  {
   "cell_type": "code",
   "execution_count": null,
   "metadata": {
    "collapsed": true
   },
   "outputs": [],
   "source": [
    "total_eclipses = eclipses[eclipses.type=='Total']\n",
    "partial_eclipses = eclipses[eclipses.type=='Partial']"
   ]
  },
  {
   "cell_type": "markdown",
   "metadata": {},
   "source": [
    "We'll now introduce the [``Spikes``](http://build.holoviews.org/reference/elements/bokeh/Spikes.html) element, and display it with a large width and without a y-axis. We can specify those options for all following [``Spikes``](http://build.holoviews.org/reference/elements/bokeh/Spikes.html) elements using the ``%opts`` *line magic*:"
   ]
  },
  {
   "cell_type": "code",
   "execution_count": null,
   "metadata": {
    "collapsed": true
   },
   "outputs": [],
   "source": [
    "%opts Spikes [width=900 yaxis=None] "
   ]
  },
  {
   "cell_type": "markdown",
   "metadata": {},
   "source": [
    "Now let us look at the hour of day at which these two types of eclipses occur (local time) by overlaying the two types of eclipse as [``Spikes``](http://build.holoviews.org/reference/elements/bokeh/Spikes.html) elements.  The problem then is finding a way to visually distinguish the spikes corresponding to the different ellipse types.\n",
    "\n",
    "We can do this using the element ``group`` and ``label`` introduced in the [introduction to elements](./01-introduction-to-elements.ipynb) section as follows:"
   ]
  },
  {
   "cell_type": "code",
   "execution_count": null,
   "metadata": {
    "collapsed": true
   },
   "outputs": [],
   "source": [
    "%%opts Spikes.Eclipses.Total (line_dash='solid')\n",
    "%%opts Spikes.Eclipses.Partial (line_dash='dotted')\n",
    "total =   hv.Spikes(total_eclipses,   kdims=['hour_local'], vdims=[], group='Eclipses', label='Total')\n",
    "partial = hv.Spikes(partial_eclipses, kdims=['hour_local'], vdims=[], group='Eclipses', label='Partial')\n",
    "(total * partial).redim.label(hour_local='Local time (hour)')"
   ]
  },
  {
   "cell_type": "markdown",
   "metadata": {},
   "source": [
    "Using these options to distinguish between the two categories of data with the same type, you can now see clear patterns of grouping between the two types, with many more total eclipses around noon in local time.  Similar techniques can be used to provide arbitrarily specific customizations when needed."
   ]
  },
  {
   "cell_type": "code",
   "execution_count": null,
   "metadata": {
    "collapsed": true
   },
   "outputs": [],
   "source": [
    "# Exercise: Remove the two %%opts lines above and observe the effect\n"
   ]
  },
  {
   "cell_type": "code",
   "execution_count": null,
   "metadata": {
    "collapsed": true
   },
   "outputs": [],
   "source": [
    "# Exercise: Show all spikes with 'solid' line_dash, total eclipses in black and the partial ones in 'lightgray'\n"
   ]
  },
  {
   "cell_type": "code",
   "execution_count": null,
   "metadata": {
    "collapsed": true
   },
   "outputs": [],
   "source": [
    "# Optional Exercise: Try differentiating the two sets of spikes by group and not label\n"
   ]
  },
  {
   "cell_type": "markdown",
   "metadata": {},
   "source": [
    "# Onwards\n",
    "\n",
    "We have now seen some of the ways you can customize the appearance of your visualizations. You can consult our [Customizing Plots](http://holoviews.org/user_guide/Customizing_Plots.html) user guide to learn about other approaches, including the ``hv.opts`` and ``hv.output`` utilities which do not rely on notebook specific syntax. One last approach worth mentioning is the ``.opts`` method which accepts a customization specification dictionary or string to customize a particular object directly. When called without any arguments ``.opts()`` clears any customizations that may be set on that object.\n",
    "\n",
    "In the [exploration with containers](./03-exploration-with-containers.ipynb) section that follows, you will also see a few examples of how the appearance of elements can be customized when viewed in containers."
   ]
  }
 ],
 "metadata": {
  "kernelspec": {
   "display_name": "Python [default]",
   "language": "python",
   "name": "python3"
  },
  "language_info": {
   "codemirror_mode": {
    "name": "ipython",
    "version": 3
   },
   "file_extension": ".py",
   "mimetype": "text/x-python",
   "name": "python",
   "nbconvert_exporter": "python",
   "pygments_lexer": "ipython3",
   "version": "3.5.3"
  }
 },
 "nbformat": 4,
 "nbformat_minor": 2
}
